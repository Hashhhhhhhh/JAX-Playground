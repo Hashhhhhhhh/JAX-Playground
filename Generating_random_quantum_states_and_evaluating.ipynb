{
  "nbformat": 4,
  "nbformat_minor": 0,
  "metadata": {
    "colab": {
      "provenance": [],
      "authorship_tag": "ABX9TyOq/cAyXiSt/fAA/NtQQZSb",
      "include_colab_link": true
    },
    "kernelspec": {
      "name": "python3",
      "display_name": "Python 3"
    },
    "language_info": {
      "name": "python"
    }
  },
  "cells": [
    {
      "cell_type": "markdown",
      "metadata": {
        "id": "view-in-github",
        "colab_type": "text"
      },
      "source": [
        "<a href=\"https://colab.research.google.com/github/Hashhhhhhhh/JAX-Playground/blob/main/Generating_random_quantum_states_and_evaluating.ipynb\" target=\"_parent\"><img src=\"https://colab.research.google.com/assets/colab-badge.svg\" alt=\"Open In Colab\"/></a>"
      ]
    },
    {
      "cell_type": "markdown",
      "source": [
        "GENERATING AND EVALUATING QUANTUM STATES:\n",
        "\n",
        "\n",
        "\n",
        "Initialize a population of random quantum states (Pure states as complex vectors as for now mixed states which involves the density matrix is computationally costly on a comparative scale. Compute their fidelity with a target state (Ex: GHZ). This mimics the initial population and fitness evaluation in a GA (genetic algorithm). Also JAX's vmap makes fidelity computation efficient!"
      ],
      "metadata": {
        "id": "-Lj0vvP0VVCK"
      }
    },
    {
      "cell_type": "code",
      "source": [
        "!pip install jax"
      ],
      "metadata": {
        "colab": {
          "base_uri": "https://localhost:8080/"
        },
        "id": "y7IGlduPVVLo",
        "outputId": "ef5883e2-5ecf-4a6e-839d-1cecc1277061"
      },
      "execution_count": 1,
      "outputs": [
        {
          "output_type": "stream",
          "name": "stdout",
          "text": [
            "Requirement already satisfied: jax in /usr/local/lib/python3.12/dist-packages (0.7.2)\n",
            "Requirement already satisfied: jaxlib<=0.7.2,>=0.7.2 in /usr/local/lib/python3.12/dist-packages (from jax) (0.7.2)\n",
            "Requirement already satisfied: ml_dtypes>=0.5.0 in /usr/local/lib/python3.12/dist-packages (from jax) (0.5.3)\n",
            "Requirement already satisfied: numpy>=2.0 in /usr/local/lib/python3.12/dist-packages (from jax) (2.0.2)\n",
            "Requirement already satisfied: opt_einsum in /usr/local/lib/python3.12/dist-packages (from jax) (3.4.0)\n",
            "Requirement already satisfied: scipy>=1.13 in /usr/local/lib/python3.12/dist-packages (from jax) (1.16.2)\n"
          ]
        }
      ]
    },
    {
      "cell_type": "code",
      "source": [
        "import jax.numpy as jnp\n",
        "from jax import jit,grad,vmap,random\n",
        "#parameters\n",
        "N=2 #no.of qubits\n",
        "pop_size=5 #population size\n",
        "target=jnp.array([1.0,0.0,0.0,1.0])/jnp.sqrt(2) #GHZ state\n",
        "key=random.PRNGKey(14)\n",
        "print(key)\n",
        "key,subkey=random.split(key)\n",
        "print(subkey)\n",
        "population = []\n",
        "for i in range(pop_size):\n",
        "    subkey, state_key = random.split(subkey) # Split subkey again for each state\n",
        "    state= random.normal(state_key,shape=(2**N,))+1j*random.normal(state_key,shape=(2**N,))\n",
        "    state=state/jnp.linalg.norm(state)\n",
        "    population.append(state)\n",
        "    print(state)\n",
        "\n",
        "# Fidelity between two pure states |psi> and |phi> is |<psi|phi>|^2\n",
        "fidelity=vmap(lambda state: jnp.abs(jnp.vdot(target,state))**2)(jnp.array(population))\n",
        "\n",
        "print(\"Fidelities\")\n",
        "print(fidelity)"
      ],
      "metadata": {
        "colab": {
          "base_uri": "https://localhost:8080/"
        },
        "id": "s8duFp_MV_SA",
        "outputId": "7a3cedf3-4466-43eb-e8b4-f4e0419c1c7b"
      },
      "execution_count": 10,
      "outputs": [
        {
          "output_type": "stream",
          "name": "stdout",
          "text": [
            "[ 0 14]\n",
            "[1893648005 2797135999]\n",
            "[-0.30565503-0.30565503j  0.44571823+0.44571823j  0.43522668+0.43522668j\n",
            " -0.13597059-0.13597059j]\n",
            "[-0.48151985-0.48151985j -0.26199222-0.26199222j -0.03333126-0.03333126j\n",
            "  0.44540742+0.44540742j]\n",
            "[ 0.16736472+0.16736472j -0.37277678-0.37277678j  0.34334126+0.34334126j\n",
            "  0.46383536+0.46383536j]\n",
            "[-0.27198148-0.27198148j  0.3122536 +0.3122536j  -0.4379133 -0.4379133j\n",
            "  0.36980495+0.36980495j]\n",
            "[ 0.25769708+0.25769708j -0.273026  -0.273026j    0.49743235+0.49743235j\n",
            " -0.334081  -0.334081j  ]\n",
            "Fidelities\n",
            "[0.1950332  0.0013041  0.39841345 0.00956943 0.00583451]\n"
          ]
        }
      ]
    }
  ]
}