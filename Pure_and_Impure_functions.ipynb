{
  "nbformat": 4,
  "nbformat_minor": 0,
  "metadata": {
    "colab": {
      "provenance": [],
      "authorship_tag": "ABX9TyNlDUICP6zupmPKLYmNgSHq",
      "include_colab_link": true
    },
    "kernelspec": {
      "name": "python3",
      "display_name": "Python 3"
    },
    "language_info": {
      "name": "python"
    }
  },
  "cells": [
    {
      "cell_type": "markdown",
      "metadata": {
        "id": "view-in-github",
        "colab_type": "text"
      },
      "source": [
        "<a href=\"https://colab.research.google.com/github/Hashhhhhhhh/JAX-Playground/blob/main/Pure_and_Impure_functions.ipynb\" target=\"_parent\"><img src=\"https://colab.research.google.com/assets/colab-badge.svg\" alt=\"Open In Colab\"/></a>"
      ]
    },
    {
      "cell_type": "markdown",
      "source": [
        "Pure and Impure Functions"
      ],
      "metadata": {
        "id": "dsYVot8ELIEZ"
      }
    },
    {
      "cell_type": "code",
      "source": [
        "# Understanding Pure and Impure Functions with JAX\n",
        "\n",
        "# ## What is a Pure Function?\n",
        "# A pure function always returns the same output for the same input and does not cause any side effects like modifying external variables or printing.\n",
        "\n",
        "# ## What is an Impure Function?\n",
        "# An impure function may cause side effects such as modifying global variables, printing to the console, or writing to files, and its output might depend on or change external state.\n",
        "\n",
        "import jax\n",
        "import jax.numpy as jnp\n",
        "\n",
        "# Pure function example\n",
        "def pure_multiply(x, y):\n",
        "    return x * y\n",
        "\n",
        "print(\"Pure function output:\")\n",
        "print(pure_multiply(jnp.array([1, 2, 3]), 2))\n",
        "print(pure_multiply(jnp.array([1, 2, 3]), 2))\n",
        "\n",
        "# Impure function example: modifying a global variable\n",
        "counter = 0\n",
        "def impure_increment():\n",
        "    global counter\n",
        "    counter += 1\n",
        "    return counter\n",
        "\n",
        "print(\"\\nImpure function output:\")\n",
        "print(impure_increment())\n",
        "print(impure_increment())\n",
        "\n",
        "# Impure function example: printing (side effect)\n",
        "def impure_print(x):\n",
        "    print(\"Printing from function:\", x)\n",
        "    return x * 2\n",
        "\n",
        "print(\"\\nCalling impure_print:\")\n",
        "result = impure_print(3)\n",
        "print(\"Result:\", result)\n",
        "\n",
        "# ## Why JAX enforces purity and immutability?\n",
        "# - It allows JAX to perform optimizations like automatic differentiation and parallelization reliably.\n",
        "# - Immutable arrays mean every array operation returns a new array without changing the original.\n",
        "\n",
        "# Trying to mutate a JAX array directly will cause errors or unexpected behavior.\n",
        "\n",
        "# Create a JAX array and attempt to change it (commented out to avoid runtime error)\n",
        "# x = jnp.array([1, 2, 3])\n",
        "# x[0] = 10  # This will raise an error because JAX arrays are immutable\n",
        "\n",
        "# Instead, create a new array with a modified value\n",
        "x = jnp.array([1, 2, 3])\n",
        "x_new = x.at[0].set(10)\n",
        "print(\"\\nOriginal array:\", x)\n",
        "print(\"New array after set operation:\", x_new)\n"
      ],
      "metadata": {
        "colab": {
          "base_uri": "https://localhost:8080/"
        },
        "id": "m4_oRDTMLJM3",
        "outputId": "22ea646b-cffc-470d-f0c9-fd89513a112d"
      },
      "execution_count": 2,
      "outputs": [
        {
          "output_type": "stream",
          "name": "stdout",
          "text": [
            "Pure function output:\n",
            "[2 4 6]\n",
            "[2 4 6]\n",
            "\n",
            "Impure function output:\n",
            "1\n",
            "2\n",
            "\n",
            "Calling impure_print:\n",
            "Printing from function: 3\n",
            "Result: 6\n",
            "\n",
            "Original array: [1 2 3]\n",
            "New array after set operation: [10  2  3]\n"
          ]
        }
      ]
    }
  ]
}