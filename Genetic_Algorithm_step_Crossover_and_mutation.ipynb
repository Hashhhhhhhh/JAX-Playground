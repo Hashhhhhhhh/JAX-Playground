{
  "nbformat": 4,
  "nbformat_minor": 0,
  "metadata": {
    "colab": {
      "provenance": [],
      "authorship_tag": "ABX9TyPMttcbgxMj4JR6JElvhW1G",
      "include_colab_link": true
    },
    "kernelspec": {
      "name": "python3",
      "display_name": "Python 3"
    },
    "language_info": {
      "name": "python"
    }
  },
  "cells": [
    {
      "cell_type": "markdown",
      "metadata": {
        "id": "view-in-github",
        "colab_type": "text"
      },
      "source": [
        "<a href=\"https://colab.research.google.com/github/Hashhhhhhhh/JAX-Playground/blob/main/Genetic_Algorithm_step_Crossover_and_mutation.ipynb\" target=\"_parent\"><img src=\"https://colab.research.google.com/assets/colab-badge.svg\" alt=\"Open In Colab\"/></a>"
      ]
    },
    {
      "cell_type": "markdown",
      "source": [
        "Perform 1 GA iteration: selects states based on fidelity, apply crossover (Ex: convex combination of state vectors), and mutate. This simulates evolving quantum states toward a metrology-optimal state."
      ],
      "metadata": {
        "id": "7lNqd_S2a2En"
      }
    },
    {
      "cell_type": "code",
      "source": [
        "!pip install jax"
      ],
      "metadata": {
        "colab": {
          "base_uri": "https://localhost:8080/"
        },
        "id": "UVOIhczha2Sx",
        "outputId": "23e3cc6c-2705-44d7-d850-ce3485f99957"
      },
      "execution_count": 1,
      "outputs": [
        {
          "output_type": "stream",
          "name": "stdout",
          "text": [
            "Requirement already satisfied: jax in /usr/local/lib/python3.12/dist-packages (0.7.2)\n",
            "Requirement already satisfied: jaxlib<=0.7.2,>=0.7.2 in /usr/local/lib/python3.12/dist-packages (from jax) (0.7.2)\n",
            "Requirement already satisfied: ml_dtypes>=0.5.0 in /usr/local/lib/python3.12/dist-packages (from jax) (0.5.3)\n",
            "Requirement already satisfied: numpy>=2.0 in /usr/local/lib/python3.12/dist-packages (from jax) (2.0.2)\n",
            "Requirement already satisfied: opt_einsum in /usr/local/lib/python3.12/dist-packages (from jax) (3.4.0)\n",
            "Requirement already satisfied: scipy>=1.13 in /usr/local/lib/python3.12/dist-packages (from jax) (1.16.2)\n"
          ]
        }
      ]
    },
    {
      "cell_type": "code",
      "source": [
        "import jax.numpy as jnp\n",
        "from jax import jit, vmap,random\n",
        "#paramters\n",
        "N=2\n",
        "pop_size=5\n",
        "target=jnp.array([1.0,0.0,0.0,1.0])/jnp.sqrt(2)\n",
        "key=random.PRNGKey(14)\n",
        "#initializing states\n",
        "key,subkey=random.split(key)\n",
        "states=random.normal(subkey,(2**N,pop_size))+1j*random.normal(subkey,(2**N,pop_size))\n",
        "states=states/jnp.linalg.norm(states)\n",
        "print(\"States.\", \"Each column corresponds to one state vector.\")\n",
        "print(states)\n",
        "#fitness ---> fidelity\n",
        "fidelity = vmap(lambda state: jnp.abs(jnp.vdot(state, target))**2, in_axes=1)(states)\n",
        "print(\"\\nFidelity\")\n",
        "print(fidelity)\n",
        "#selection : top2 states\n",
        "key,subkey=random.split(key)\n",
        "idx=jnp.argsort(fidelity)[::-1][2:]\n",
        "#[::-1] reverses the sorted indices to get descending order (highest fidelity first)\n",
        "#Top 2 fidelities\n",
        "parents=states[:,idx]\n",
        "print()\n",
        "print(\"Parents\")\n",
        "print(parents)\n",
        "#Crossover\n",
        "alpha=0.5\n",
        "child1=alpha*parents[:,0]+(1-alpha)*parents[:,1]\n",
        "child1=child1/jnp.linalg.norm(child1)\n",
        "child2=(1-alpha)*parents[:,0]+(alpha)*parents[:,1]\n",
        "child2=child2/jnp.linalg.norm(child2)\n",
        "child=jnp.stack((child1,child2))\n",
        "print()\n",
        "print(\"Children\")\n",
        "print(child)\n",
        "#mutation\n",
        "key,subkey=random.split(key)\n",
        "noise=0.1*(random.normal(subkey,(2**N,))+1j*random.normal(subkey,(2**N,)))\n",
        "child1=child1+noise\n",
        "child1=child1/jnp.linalg.norm(child1)\n",
        "new_pop=jnp.column_stack([parents,child1,child2])\n",
        "print()\n",
        "print(\"New population Fidelities\")\n",
        "print(vmap(lambda state: jnp.abs(jnp.vdot(state, target))**2, in_axes=1)(new_pop))"
      ],
      "metadata": {
        "colab": {
          "base_uri": "https://localhost:8080/"
        },
        "id": "b55BWldnbVhm",
        "outputId": "55358459-2ef2-4866-e00c-359c7eb7f27b"
      },
      "execution_count": 19,
      "outputs": [
        {
          "output_type": "stream",
          "name": "stdout",
          "text": [
            "States. Each column corresponds to one state vector.\n",
            "[[ 0.0520511 +0.0520511j   0.06296879+0.06296879j -0.29019168-0.29019168j\n",
            "   0.21126571+0.21126571j  0.31737888+0.31737888j]\n",
            " [ 0.07345413+0.07345413j  0.14589515+0.14589515j  0.04740075+0.04740075j\n",
            "  -0.05666243-0.05666243j  0.01700507+0.01700507j]\n",
            " [-0.17689225-0.17689225j -0.09186433-0.09186433j  0.14294404+0.14294404j\n",
            "   0.09566636+0.09566636j  0.04103819+0.04103819j]\n",
            " [-0.01764419-0.01764419j -0.17997827-0.17997827j -0.00977259-0.00977259j\n",
            "   0.14289558+0.14289558j -0.32727218-0.32727218j]]\n",
            "\n",
            "Fidelity\n",
            "[1.1838353e-03 1.3691216e-02 8.9978553e-02 1.2543024e-01 9.7877346e-05]\n",
            "\n",
            "Parents\n",
            "[[ 0.06296879+0.06296879j  0.0520511 +0.0520511j   0.31737888+0.31737888j]\n",
            " [ 0.14589515+0.14589515j  0.07345413+0.07345413j  0.01700507+0.01700507j]\n",
            " [-0.09186433-0.09186433j -0.17689225-0.17689225j  0.04103819+0.04103819j]\n",
            " [-0.17997827-0.17997827j -0.01764419-0.01764419j -0.32727218-0.32727218j]]\n",
            "\n",
            "Children\n",
            "[[ 0.19575003+0.19575003j  0.37330613+0.37330613j -0.45739138-0.45739138j\n",
            "  -0.33632967-0.33632967j]\n",
            " [ 0.19575003+0.19575003j  0.37330613+0.37330613j -0.45739138-0.45739138j\n",
            "  -0.33632967-0.33632967j]]\n",
            "\n",
            "New population Fidelities\n",
            "[1.3691216e-02 1.1838353e-03 9.7877346e-05 2.3091448e-02 1.9762632e-02]\n"
          ]
        }
      ]
    }
  ]
}