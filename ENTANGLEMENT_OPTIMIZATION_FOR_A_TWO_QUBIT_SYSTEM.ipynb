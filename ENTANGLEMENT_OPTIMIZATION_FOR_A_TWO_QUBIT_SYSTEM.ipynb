{
  "nbformat": 4,
  "nbformat_minor": 0,
  "metadata": {
    "colab": {
      "provenance": [],
      "authorship_tag": "ABX9TyOQrULRr2NltzWxYOMzQ16P",
      "include_colab_link": true
    },
    "kernelspec": {
      "name": "python3",
      "display_name": "Python 3"
    },
    "language_info": {
      "name": "python"
    }
  },
  "cells": [
    {
      "cell_type": "markdown",
      "metadata": {
        "id": "view-in-github",
        "colab_type": "text"
      },
      "source": [
        "<a href=\"https://colab.research.google.com/github/Hashhhhhhhh/JAX-Playground/blob/main/ENTANGLEMENT_OPTIMIZATION_FOR_A_TWO_QUBIT_SYSTEM.ipynb\" target=\"_parent\"><img src=\"https://colab.research.google.com/assets/colab-badge.svg\" alt=\"Open In Colab\"/></a>"
      ]
    },
    {
      "cell_type": "markdown",
      "source": [
        "ENTANGLEMENT OPTIMIZATION FOR A TWO-QUBIT SYSTEM"
      ],
      "metadata": {
        "id": "kSw04TX4njx4"
      }
    },
    {
      "cell_type": "markdown",
      "source": [
        "This mini project uses a genetic algorithm to optimize a population of multi-qubit pure quantum states to maximize an entanglement measure (concurrence for 2-qubit system) for quantum metrology.\n",
        "\n",
        "Here, I employ a GA to evolve a population of 2-qubit pure quantum states to maximize the concurrence, an entanglement measure. This simulates preparing highly entangled states such as Bell states, which are optimal metrologial applications."
      ],
      "metadata": {
        "id": "uA8kSivmnp5W"
      }
    },
    {
      "cell_type": "markdown",
      "source": [
        "Uses 'vmap' for population-level fitness evaluation, 'jit' for performance and 'lax.scan' for efficient GA iterations."
      ],
      "metadata": {
        "id": "yGjOHybfreyl"
      }
    },
    {
      "cell_type": "markdown",
      "source": [
        "PROJECT IMPLEMENTATION:\n",
        "\n",
        "1. Initialize the population of random 2-qubit pure states\n",
        "2. Compute concurrence as the fitness function for each state\n",
        "3. Perform GA operations : selection, crossover and mutation\n",
        "4. Iterate over generations using lax.scan for efficiency\n",
        "5. Ouput the best state and its concurrence"
      ],
      "metadata": {
        "id": "zcrMgBegr0HA"
      }
    },
    {
      "cell_type": "code",
      "source": [
        "from jax import random, numpy as jnp, jit, lax, vmap"
      ],
      "metadata": {
        "id": "pmWmf_zHst0L"
      },
      "execution_count": 1,
      "outputs": []
    },
    {
      "cell_type": "code",
      "source": [
        "import jax.numpy as jnp\n",
        "from jax import random, lax, jit, vmap\n",
        "\n",
        "#paramters\n",
        "n_qubits=2\n",
        "pop_size=50\n",
        "n_gens=100\n",
        "mutation_strength=0.1\n",
        "key=random.PRNGKey(0)\n",
        "\n",
        "#initialize population\n",
        "key,subkey=random.split(key)\n",
        "state = random.normal(subkey,(2**n_qubits,pop_size))+1j*random.normal(subkey,(2**n_qubits,pop_size))\n",
        "state=state/jnp.linalg.norm(state,axis=0)\n",
        "\n",
        "#Concurrence for a single 2-qubit state\n",
        "@jit\n",
        "def compute_concurrence(state):\n",
        "    a,b,c,d=state\n",
        "    return 2*jnp.abs(a*d-b*c)\n",
        "\n",
        "#vectorized concurrence across population\n",
        "vectorized_concurrence=vmap(compute_concurrence,in_axes=1)\n",
        "\n",
        "#GA step : Selection, Crossover,Mutation\n",
        "@jit\n",
        "def genetic_algorithm(carry,_):\n",
        "    pop,key=carry\n",
        "    key,subkey=random.split(key)\n",
        "    #fitness(concurrence):\n",
        "    concurrence=vectorized_concurrence(pop)\n",
        "    #selection : top 50% of population\n",
        "    n_select=pop_size//2\n",
        "    if n_select % 2 != 0:\n",
        "        n_select -= 1\n",
        "    idx=jnp.argsort(concurrence)[::-1][:n_select]\n",
        "    parents=pop[:,idx]\n",
        "    #crossover : pair parents randomly\n",
        "    key,subkey1,subkey2,subkey3=random.split(key,4)\n",
        "    parents_idx=random.permutation(subkey1,n_select)\n",
        "    half=(pop_size - n_select)  # number of children to fill remaining slots\n",
        "    # choose random parent pairs for crossover\n",
        "    p1_idx=random.randint(subkey2,(half,),0,n_select)\n",
        "    p2_idx=random.randint(subkey3,(half,),0,n_select)\n",
        "    alpha=random.uniform(subkey2,(1, half))\n",
        "    parent1=parents[:,p1_idx]\n",
        "    parent2=parents[:,p2_idx]\n",
        "    children=alpha*parent1+(1-alpha)*parent2\n",
        "    children=children/jnp.linalg.norm(children,axis=0)\n",
        "    #mutation\n",
        "    key,subkey=random.split(key)\n",
        "    noise=mutation_strength*random.normal(subkey,(2**n_qubits,half))+1j*random.normal(subkey,(2**n_qubits,half))\n",
        "    mutated=children+noise\n",
        "    mutated=mutated/jnp.linalg.norm(mutated,axis=0)\n",
        "    children=mutated\n",
        "    #new population\n",
        "    new_pop=jnp.column_stack([parents,children])\n",
        "    return (new_pop,key),concurrence\n",
        "\n",
        "#running GA\n",
        "(final_pop,key),concurrence_history=lax.scan(genetic_algorithm,(state,key),None,length=n_gens)\n",
        "\n",
        "#results\n",
        "final_concurrence_values = concurrence_history[-1]\n",
        "best_idx=jnp.argmax(final_concurrence_values)\n",
        "best_state=final_pop[:,best_idx]\n",
        "best_concurrence=final_concurrence_values[best_idx]\n",
        "\n",
        "print(f\"Best state: {best_state}\")\n",
        "print(f\"Best concurrence: {best_concurrence}\")\n",
        "print(f'Max Concurrence : {jnp.max(concurrence_history)}')\n",
        "print(f'Min Concurrence : {jnp.min(concurrence_history)}')\n",
        "\n",
        "#plot convergence\n",
        "import matplotlib.pyplot as plt\n",
        "plt.plot(jnp.max(concurrence_history,axis=1))\n",
        "plt.xlabel('Generation')\n",
        "plt.ylabel('Max Concurrence')\n",
        "plt.title('Convergence of Entanglement Optimization')\n",
        "plt.show()"
      ],
      "metadata": {
        "colab": {
          "base_uri": "https://localhost:8080/",
          "height": 563
        },
        "id": "R9iwDokt2TG1",
        "outputId": "b60d390b-9adc-480a-d2c3-51f6872fd854"
      },
      "execution_count": 16,
      "outputs": [
        {
          "output_type": "stream",
          "name": "stdout",
          "text": [
            "Best state: [-0.05728558-0.3684824j   0.06178081+0.61433464j -0.07689275-0.58979726j\n",
            " -0.03695866-0.35295305j]\n",
            "Best concurrence: 0.999082088470459\n",
            "Max Concurrence : 0.999082088470459\n",
            "Min Concurrence : 0.0017277236329391599\n"
          ]
        },
        {
          "output_type": "display_data",
          "data": {
            "text/plain": [
              "<Figure size 640x480 with 1 Axes>"
            ],
            "image/png": "[encoded data removed]"
          },
          "metadata": {}
        }
      ]
    }
  ]
}